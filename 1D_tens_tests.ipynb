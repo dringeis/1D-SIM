{
 "cells": [
  {
   "cell_type": "markdown",
   "id": "numerous-contents",
   "metadata": {},
   "source": [
    "# 1D tensile tests"
   ]
  },
  {
   "cell_type": "markdown",
   "id": "available-progress",
   "metadata": {},
   "source": [
    "## Runs details"
   ]
  },
  {
   "cell_type": "raw",
   "id": "automated-edward",
   "metadata": {},
   "source": [
    "expnbr kt  forcing \n",
    "03     0   const0.5\n",
    "04     0.1 ramp0.5\n",
    "05     0   ramp0.5"
   ]
  },
  {
   "cell_type": "markdown",
   "id": "asian-thesaurus",
   "metadata": {},
   "source": [
    "## Loading packages and functions"
   ]
  },
  {
   "cell_type": "code",
   "execution_count": 1,
   "id": "colonial-language",
   "metadata": {},
   "outputs": [],
   "source": [
    "import numpy as np\n",
    "import pylab as plt\n",
    "import xarray as xr\n",
    "from datetime import datetime\n",
    "import sys\n",
    "sys.path.insert(1, './utils/')\n",
    "from plot1D import *\n",
    "\n",
    "# Using LaTeX in figures\n",
    "plt.rc('text', usetex=True)\n",
    "plt.rc('font', family='sans')\n",
    "\n",
    "%matplotlib ipympl\n",
    "# %matplotlib inline"
   ]
  },
  {
   "cell_type": "markdown",
   "id": "charitable-horror",
   "metadata": {},
   "source": [
    "## With linearly increasing winds - kt=0"
   ]
  },
  {
   "cell_type": "code",
   "execution_count": 2,
   "id": "agreed-emission",
   "metadata": {},
   "outputs": [
    {
     "name": "stdout",
     "output_type": "stream",
     "text": [
      "A\n",
      "h\n",
      "div\n",
      "Er\n",
      "u\n",
      "<xarray.Dataset>\n",
      "Dimensions:    (time: 179, timestep: 179, xc: 262, xg: 261)\n",
      "Coordinates:\n",
      "    timesteps  (timestep) int64 10 20 30 40 50 60 ... 1750 1760 1770 1780 1790\n",
      "  * time       (time) int64 100 200 300 400 500 ... 17600 17700 17800 17900\n",
      "  * xc         (xc) float64 0.0 0.9962 1.992 2.989 ... 257.0 258.0 259.0 260.0\n",
      "  * xg         (xg) float64 0.4981 1.494 2.49 3.487 ... 256.5 257.5 258.5 259.5\n",
      "Dimensions without coordinates: timestep\n",
      "Data variables:\n",
      "    A          (time, xc) float64 0.0 0.0 0.9999 1.0 1.0 ... 0.0 0.0 0.0 0.0 0.0\n",
      "    h          (time, xc) float64 0.0 0.0 0.9999 1.0 1.0 ... 0.0 0.0 0.0 0.0 0.0\n",
      "    div        (time, xc) float64 0.0 1.283e-06 2.5e-11 ... -7.207e-06 0.0\n",
      "    Er         (time, xg) float64 0.0 1.009e-05 1.653e-05 ... 0.0 -0.0 0.0\n",
      "    u          (time, xg) float64 0.0 0.001283 0.001283 ... 0.007207 0.0\n",
      "Attributes:\n",
      "    entry:    {'fdr': './output.05/', 'vrs': ['A', 'h', 'div', 'Er', 'u'], 'v...\n"
     ]
    }
   ],
   "source": [
    "tps05 = timesteps(10, 1800, 10)\n",
    "\n",
    "#data to load in an xarray\n",
    "datas05 = {\n",
    "    'fdr': './output.05/',\n",
    "    'vrs': ['A', 'h', 'div', 'Er', 'u'],\n",
    "    'vx': {'A': 'xc', 'h': 'xc', 'div': 'xc', 'Er': 'xg', 'u': 'xg'},\n",
    "    'ri': '00010s_001km_solv1_IMEX0_adv3_BDF20',\n",
    "    'tps': tps05,\n",
    "    'exp': '.05',\n",
    "    'dt': 10\n",
    "}\n",
    "\n",
    "ds05 = loadxr_SIM1D(datas05, save=True)\n",
    "print(ds05)"
   ]
  },
  {
   "cell_type": "code",
   "execution_count": 3,
   "id": "exterior-mining",
   "metadata": {},
   "outputs": [],
   "source": [
    "# variables for plot\n",
    "varn = [\"u\", \"h\", \"A\", \"div\", \"Er\"]"
   ]
  },
  {
   "cell_type": "markdown",
   "id": "religious-flower",
   "metadata": {},
   "source": [
    "### Line plots"
   ]
  },
  {
   "cell_type": "code",
   "execution_count": 4,
   "id": "serial-honor",
   "metadata": {},
   "outputs": [
    {
     "data": {
      "application/vnd.jupyter.widget-view+json": {
       "model_id": "de7fe6ab72c7461799c8259fcd2dbcba",
       "version_major": 2,
       "version_minor": 0
      },
      "text/plain": [
       "Canvas(toolbar=Toolbar(toolitems=[('Home', 'Reset original view', 'home', 'home'), ('Back', 'Back to previous …"
      ]
     },
     "metadata": {},
     "output_type": "display_data"
    },
    {
     "data": {
      "application/vnd.jupyter.widget-view+json": {
       "model_id": "336543955b474c80a4d0a38f3d9e262f",
       "version_major": 2,
       "version_minor": 0
      },
      "text/plain": [
       "Canvas(toolbar=Toolbar(toolitems=[('Home', 'Reset original view', 'home', 'home'), ('Back', 'Back to previous …"
      ]
     },
     "metadata": {},
     "output_type": "display_data"
    },
    {
     "data": {
      "application/vnd.jupyter.widget-view+json": {
       "model_id": "f0c3f339e7774b1eae0862eef36678b3",
       "version_major": 2,
       "version_minor": 0
      },
      "text/plain": [
       "Canvas(toolbar=Toolbar(toolitems=[('Home', 'Reset original view', 'home', 'home'), ('Back', 'Back to previous …"
      ]
     },
     "metadata": {},
     "output_type": "display_data"
    },
    {
     "data": {
      "application/vnd.jupyter.widget-view+json": {
       "model_id": "7a4faab82e4f4a868b54b6265be4e6d3",
       "version_major": 2,
       "version_minor": 0
      },
      "text/plain": [
       "Canvas(toolbar=Toolbar(toolitems=[('Home', 'Reset original view', 'home', 'home'), ('Back', 'Back to previous …"
      ]
     },
     "metadata": {},
     "output_type": "display_data"
    },
    {
     "data": {
      "application/vnd.jupyter.widget-view+json": {
       "model_id": "9e7d549a4ea84a879ed47dbc1e53b635",
       "version_major": 2,
       "version_minor": 0
      },
      "text/plain": [
       "Canvas(toolbar=Toolbar(toolitems=[('Home', 'Reset original view', 'home', 'home'), ('Back', 'Back to previous …"
      ]
     },
     "metadata": {},
     "output_type": "display_data"
    }
   ],
   "source": [
    "plot_SIM1D(ds05, varn, step=10)"
   ]
  },
  {
   "cell_type": "markdown",
   "id": "lovely-representation",
   "metadata": {},
   "source": [
    "### Pcolormesh plots"
   ]
  },
  {
   "cell_type": "code",
   "execution_count": 5,
   "id": "multiple-rendering",
   "metadata": {},
   "outputs": [
    {
     "data": {
      "application/vnd.jupyter.widget-view+json": {
       "model_id": "9fc0813d8cf3456e91c3170ad17b4980",
       "version_major": 2,
       "version_minor": 0
      },
      "text/plain": [
       "Canvas(toolbar=Toolbar(toolitems=[('Home', 'Reset original view', 'home', 'home'), ('Back', 'Back to previous …"
      ]
     },
     "metadata": {},
     "output_type": "display_data"
    },
    {
     "data": {
      "application/vnd.jupyter.widget-view+json": {
       "model_id": "c7268199c5cb4ab3802fb11a6d43a3fc",
       "version_major": 2,
       "version_minor": 0
      },
      "text/plain": [
       "Canvas(toolbar=Toolbar(toolitems=[('Home', 'Reset original view', 'home', 'home'), ('Back', 'Back to previous …"
      ]
     },
     "metadata": {},
     "output_type": "display_data"
    },
    {
     "data": {
      "application/vnd.jupyter.widget-view+json": {
       "model_id": "2c2f8928322a4540900f4dd739dcf42b",
       "version_major": 2,
       "version_minor": 0
      },
      "text/plain": [
       "Canvas(toolbar=Toolbar(toolitems=[('Home', 'Reset original view', 'home', 'home'), ('Back', 'Back to previous …"
      ]
     },
     "metadata": {},
     "output_type": "display_data"
    },
    {
     "data": {
      "application/vnd.jupyter.widget-view+json": {
       "model_id": "5949e4ddd0734e579084085b20ee52b4",
       "version_major": 2,
       "version_minor": 0
      },
      "text/plain": [
       "Canvas(toolbar=Toolbar(toolitems=[('Home', 'Reset original view', 'home', 'home'), ('Back', 'Back to previous …"
      ]
     },
     "metadata": {},
     "output_type": "display_data"
    },
    {
     "data": {
      "application/vnd.jupyter.widget-view+json": {
       "model_id": "239c955a37404890928629a1402f560d",
       "version_major": 2,
       "version_minor": 0
      },
      "text/plain": [
       "Canvas(toolbar=Toolbar(toolitems=[('Home', 'Reset original view', 'home', 'home'), ('Back', 'Back to previous …"
      ]
     },
     "metadata": {},
     "output_type": "display_data"
    }
   ],
   "source": [
    "plot_SIM1D_PM(ds05, varn)"
   ]
  },
  {
   "cell_type": "markdown",
   "id": "female-realtor",
   "metadata": {},
   "source": [
    "## With constant wind - kt=0"
   ]
  },
  {
   "cell_type": "code",
   "execution_count": 6,
   "id": "arctic-white",
   "metadata": {},
   "outputs": [
    {
     "name": "stdout",
     "output_type": "stream",
     "text": [
      "A\n",
      "h\n",
      "div\n",
      "Er\n",
      "u\n",
      "<xarray.Dataset>\n",
      "Dimensions:    (time: 179, timestep: 179, xc: 262, xg: 261)\n",
      "Coordinates:\n",
      "    timesteps  (timestep) int64 10 20 30 40 50 60 ... 1750 1760 1770 1780 1790\n",
      "  * time       (time) int64 100 200 300 400 500 ... 17600 17700 17800 17900\n",
      "  * xc         (xc) float64 0.0 0.9962 1.992 2.989 ... 257.0 258.0 259.0 260.0\n",
      "  * xg         (xg) float64 0.4981 1.494 2.49 3.487 ... 256.5 257.5 258.5 259.5\n",
      "Dimensions without coordinates: timestep\n",
      "Data variables:\n",
      "    A          (time, xc) float64 0.0 0.0 0.9999 1.0 1.0 ... 0.0 0.0 0.0 0.0 0.0\n",
      "    h          (time, xc) float64 0.0 0.0 0.9999 1.0 1.0 ... 0.0 0.0 0.0 0.0 0.0\n",
      "    div        (time, xc) float64 0.0 1.292e-06 2.396e-11 ... 0.0 -5.865e-06 0.0\n",
      "    Er         (time, xg) float64 0.0 8.177e-06 1.526e-05 ... 0.0 -0.0 0.0\n",
      "    u          (time, xg) float64 0.0 0.001292 0.001292 ... 0.005865 0.0\n",
      "Attributes:\n",
      "    entry:    {'fdr': './output.03/', 'vrs': ['A', 'h', 'div', 'Er', 'u'], 'v...\n"
     ]
    }
   ],
   "source": [
    "tps03 = timesteps(10, 1800, 10)\n",
    "\n",
    "#data to load in an xarray\n",
    "datas05 = {\n",
    "    'fdr': './output.03/',\n",
    "    'vrs': ['A', 'h', 'div', 'Er', 'u'],\n",
    "    'vx': {'A': 'xc', 'h': 'xc', 'div': 'xc', 'Er': 'xg', 'u': 'xg'},\n",
    "    'ri': '00010s_001km_solv1_IMEX0_adv3_BDF20',\n",
    "    'tps': tps03,\n",
    "    'exp': '.03',\n",
    "    'dt': 10\n",
    "}\n",
    "\n",
    "ds03 = loadxr_SIM1D(datas05, save=True)\n",
    "print(ds03)"
   ]
  },
  {
   "cell_type": "code",
   "execution_count": 7,
   "id": "equivalent-covering",
   "metadata": {},
   "outputs": [],
   "source": [
    "# variables for plot\n",
    "varn = [\"u\", \"h\", \"A\", \"div\", \"Er\"]"
   ]
  },
  {
   "cell_type": "markdown",
   "id": "patent-travel",
   "metadata": {},
   "source": [
    "### Line plots"
   ]
  },
  {
   "cell_type": "code",
   "execution_count": 8,
   "id": "present-louisville",
   "metadata": {},
   "outputs": [
    {
     "data": {
      "application/vnd.jupyter.widget-view+json": {
       "model_id": "c9907b889cff4fbd977482f129d66658",
       "version_major": 2,
       "version_minor": 0
      },
      "text/plain": [
       "Canvas(toolbar=Toolbar(toolitems=[('Home', 'Reset original view', 'home', 'home'), ('Back', 'Back to previous …"
      ]
     },
     "metadata": {},
     "output_type": "display_data"
    },
    {
     "data": {
      "application/vnd.jupyter.widget-view+json": {
       "model_id": "84e4a1eaf1c640718ac3aa3258f76080",
       "version_major": 2,
       "version_minor": 0
      },
      "text/plain": [
       "Canvas(toolbar=Toolbar(toolitems=[('Home', 'Reset original view', 'home', 'home'), ('Back', 'Back to previous …"
      ]
     },
     "metadata": {},
     "output_type": "display_data"
    },
    {
     "data": {
      "application/vnd.jupyter.widget-view+json": {
       "model_id": "4dc2bc5165c748b58af0eccc7a705d19",
       "version_major": 2,
       "version_minor": 0
      },
      "text/plain": [
       "Canvas(toolbar=Toolbar(toolitems=[('Home', 'Reset original view', 'home', 'home'), ('Back', 'Back to previous …"
      ]
     },
     "metadata": {},
     "output_type": "display_data"
    },
    {
     "data": {
      "application/vnd.jupyter.widget-view+json": {
       "model_id": "7ac00130bcca490f85ba9e128a6f7a67",
       "version_major": 2,
       "version_minor": 0
      },
      "text/plain": [
       "Canvas(toolbar=Toolbar(toolitems=[('Home', 'Reset original view', 'home', 'home'), ('Back', 'Back to previous …"
      ]
     },
     "metadata": {},
     "output_type": "display_data"
    },
    {
     "data": {
      "application/vnd.jupyter.widget-view+json": {
       "model_id": "7128cc1d08a6427794b7d9eb128e577b",
       "version_major": 2,
       "version_minor": 0
      },
      "text/plain": [
       "Canvas(toolbar=Toolbar(toolitems=[('Home', 'Reset original view', 'home', 'home'), ('Back', 'Back to previous …"
      ]
     },
     "metadata": {},
     "output_type": "display_data"
    }
   ],
   "source": [
    "plot_SIM1D(ds03, varn, step=10)"
   ]
  },
  {
   "cell_type": "markdown",
   "id": "marine-evolution",
   "metadata": {},
   "source": [
    "### pcolormesh plots"
   ]
  },
  {
   "cell_type": "code",
   "execution_count": 9,
   "id": "dental-burke",
   "metadata": {},
   "outputs": [
    {
     "data": {
      "application/vnd.jupyter.widget-view+json": {
       "model_id": "c6ce776cf60247ffb8ca0c95e3ac27af",
       "version_major": 2,
       "version_minor": 0
      },
      "text/plain": [
       "Canvas(toolbar=Toolbar(toolitems=[('Home', 'Reset original view', 'home', 'home'), ('Back', 'Back to previous …"
      ]
     },
     "metadata": {},
     "output_type": "display_data"
    },
    {
     "data": {
      "application/vnd.jupyter.widget-view+json": {
       "model_id": "5ab0795457ea47939173bdb2cc32d4c5",
       "version_major": 2,
       "version_minor": 0
      },
      "text/plain": [
       "Canvas(toolbar=Toolbar(toolitems=[('Home', 'Reset original view', 'home', 'home'), ('Back', 'Back to previous …"
      ]
     },
     "metadata": {},
     "output_type": "display_data"
    },
    {
     "data": {
      "application/vnd.jupyter.widget-view+json": {
       "model_id": "1c576486518d4984b0968850fd700311",
       "version_major": 2,
       "version_minor": 0
      },
      "text/plain": [
       "Canvas(toolbar=Toolbar(toolitems=[('Home', 'Reset original view', 'home', 'home'), ('Back', 'Back to previous …"
      ]
     },
     "metadata": {},
     "output_type": "display_data"
    },
    {
     "data": {
      "application/vnd.jupyter.widget-view+json": {
       "model_id": "f04999ab2b524d8ab0c229e06fdb167e",
       "version_major": 2,
       "version_minor": 0
      },
      "text/plain": [
       "Canvas(toolbar=Toolbar(toolitems=[('Home', 'Reset original view', 'home', 'home'), ('Back', 'Back to previous …"
      ]
     },
     "metadata": {},
     "output_type": "display_data"
    },
    {
     "data": {
      "application/vnd.jupyter.widget-view+json": {
       "model_id": "9b4312d1af3a4c87b30a7a55b7e811e6",
       "version_major": 2,
       "version_minor": 0
      },
      "text/plain": [
       "Canvas(toolbar=Toolbar(toolitems=[('Home', 'Reset original view', 'home', 'home'), ('Back', 'Back to previous …"
      ]
     },
     "metadata": {},
     "output_type": "display_data"
    }
   ],
   "source": [
    "plot_SIM1D_PM(ds03, varn)"
   ]
  },
  {
   "cell_type": "markdown",
   "id": "approved-bryan",
   "metadata": {},
   "source": [
    "## With linearly increasing wind - kt=0.1"
   ]
  },
  {
   "cell_type": "code",
   "execution_count": 10,
   "id": "acute-positive",
   "metadata": {},
   "outputs": [
    {
     "name": "stdout",
     "output_type": "stream",
     "text": [
      "A\n",
      "h\n",
      "div\n",
      "Er\n",
      "u\n",
      "sigma\n",
      "sig_norm\n",
      "<xarray.Dataset>\n",
      "Dimensions:    (time: 179, timestep: 179, xc: 262, xg: 261)\n",
      "Coordinates:\n",
      "    timesteps  (timestep) int64 10 20 30 40 50 60 ... 1750 1760 1770 1780 1790\n",
      "  * time       (time) int64 100 200 300 400 500 ... 17600 17700 17800 17900\n",
      "  * xc         (xc) float64 0.0 0.9962 1.992 2.989 ... 257.0 258.0 259.0 260.0\n",
      "  * xg         (xg) float64 0.4981 1.494 2.49 3.487 ... 256.5 257.5 258.5 259.5\n",
      "Dimensions without coordinates: timestep\n",
      "Data variables:\n",
      "    A          (time, xc) float64 0.0 0.0 0.9998 1.0 1.0 ... 0.0 0.0 0.0 0.0 0.0\n",
      "    h          (time, xc) float64 0.0 0.0 0.9998 1.0 1.0 ... 0.0 0.0 0.0 0.0 0.0\n",
      "    div        (time, xc) float64 0.0 3.5e-06 1.663e-11 ... -7.202e-06 0.0\n",
      "    Er         (time, xg) float64 0.0 8.009e-05 0.0001239 ... 0.0 -0.0 0.0\n",
      "    u          (time, xg) float64 0.0 0.0035 0.003501 ... 0.007198 0.007202 0.0\n",
      "    sigma      (time, xc) float64 0.0 0.0 22.88 58.27 93.65 ... 0.0 0.0 -0.0 0.0\n",
      "    sig_norm   (time, xc) float64 0.0 0.0 0.0008347 0.002119 ... 0.0 0.0 0.0 0.0\n",
      "Attributes:\n",
      "    entry:    {'fdr': './output.04/', 'vrs': ['A', 'h', 'div', 'Er', 'u', 'si...\n"
     ]
    }
   ],
   "source": [
    "tps04 = timesteps(10, 1800, 10)\n",
    "\n",
    "#data to load in an xarray\n",
    "datas04 = {\n",
    "    'fdr': './output.04/',\n",
    "    'vrs': ['A', 'h', 'div', 'Er', 'u','sigma','sig_norm'],\n",
    "    'vx': {'A': 'xc', 'h': 'xc', 'div': 'xc', 'Er': 'xg', 'u': 'xg','sigma':'xc','sig_norm':'xc'},\n",
    "    'ri': '00010s_001km_solv1_IMEX0_adv3_BDF20',\n",
    "    'tps': tps04,\n",
    "    'exp': '.04',\n",
    "    'dt': 10\n",
    "}\n",
    "\n",
    "ds04 = loadxr_SIM1D(datas04, save=True)\n",
    "\n",
    "\n",
    "ds04=ds04.fillna(0)\n",
    "\n",
    "print(ds04)"
   ]
  },
  {
   "cell_type": "code",
   "execution_count": 11,
   "id": "rolled-hearts",
   "metadata": {},
   "outputs": [],
   "source": [
    "# variables for plot\n",
    "varn = [\"u\", \"h\", \"A\", \"div\", \"Er\",'sigma']"
   ]
  },
  {
   "cell_type": "code",
   "execution_count": 12,
   "id": "rocky-bobby",
   "metadata": {},
   "outputs": [
    {
     "name": "stderr",
     "output_type": "stream",
     "text": [
      "<ipython-input-12-f2065025f52c>:1: RuntimeWarning: More than 20 figures have been opened. Figures created through the pyplot interface (`matplotlib.pyplot.figure`) are retained until explicitly closed and may consume too much memory. (To control this warning, see the rcParam `figure.max_open_warning`).\n",
      "  plt.figure()\n"
     ]
    },
    {
     "data": {
      "application/vnd.jupyter.widget-view+json": {
       "model_id": "ad4325ef05cc49c3a2e6813938616c14",
       "version_major": 2,
       "version_minor": 0
      },
      "text/plain": [
       "Canvas(toolbar=Toolbar(toolitems=[('Home', 'Reset original view', 'home', 'home'), ('Back', 'Back to previous …"
      ]
     },
     "metadata": {},
     "output_type": "display_data"
    },
    {
     "data": {
      "application/vnd.jupyter.widget-view+json": {
       "model_id": "8d5e7e7a59154dad8dbf3fc0559b6427",
       "version_major": 2,
       "version_minor": 0
      },
      "text/plain": [
       "Canvas(toolbar=Toolbar(toolitems=[('Home', 'Reset original view', 'home', 'home'), ('Back', 'Back to previous …"
      ]
     },
     "metadata": {},
     "output_type": "display_data"
    }
   ],
   "source": [
    "plt.figure()\n",
    "x=ds04['xc'].values\n",
    "for i in range(0,179,10):\n",
    "    y=ds04['sig_norm'][i].values\n",
    "    plt.plot(x,y,':')\n",
    "\n",
    "plt.figure()\n",
    "ds04['sig_norm'].plot()\n",
    "    \n",
    "plt.show()"
   ]
  },
  {
   "cell_type": "code",
   "execution_count": 13,
   "id": "described-paste",
   "metadata": {},
   "outputs": [],
   "source": [
    "# plot_SIM1D(ds04, varn, step=1)"
   ]
  },
  {
   "cell_type": "code",
   "execution_count": 14,
   "id": "chicken-messaging",
   "metadata": {},
   "outputs": [
    {
     "data": {
      "application/vnd.jupyter.widget-view+json": {
       "model_id": "f4c14df9967f48e5bcccca831d5a2f3c",
       "version_major": 2,
       "version_minor": 0
      },
      "text/plain": [
       "Canvas(toolbar=Toolbar(toolitems=[('Home', 'Reset original view', 'home', 'home'), ('Back', 'Back to previous …"
      ]
     },
     "metadata": {},
     "output_type": "display_data"
    },
    {
     "data": {
      "application/vnd.jupyter.widget-view+json": {
       "model_id": "392f9cd8dc9242eaad12a7814d51ee5d",
       "version_major": 2,
       "version_minor": 0
      },
      "text/plain": [
       "Canvas(toolbar=Toolbar(toolitems=[('Home', 'Reset original view', 'home', 'home'), ('Back', 'Back to previous …"
      ]
     },
     "metadata": {},
     "output_type": "display_data"
    },
    {
     "data": {
      "application/vnd.jupyter.widget-view+json": {
       "model_id": "ce8095dfd0c44aa09e85f3332931d6dd",
       "version_major": 2,
       "version_minor": 0
      },
      "text/plain": [
       "Canvas(toolbar=Toolbar(toolitems=[('Home', 'Reset original view', 'home', 'home'), ('Back', 'Back to previous …"
      ]
     },
     "metadata": {},
     "output_type": "display_data"
    },
    {
     "data": {
      "application/vnd.jupyter.widget-view+json": {
       "model_id": "aac00a61a42e4efb983d9b5dda37cfd1",
       "version_major": 2,
       "version_minor": 0
      },
      "text/plain": [
       "Canvas(toolbar=Toolbar(toolitems=[('Home', 'Reset original view', 'home', 'home'), ('Back', 'Back to previous …"
      ]
     },
     "metadata": {},
     "output_type": "display_data"
    },
    {
     "data": {
      "application/vnd.jupyter.widget-view+json": {
       "model_id": "a8987f0f0e0546c08039802442a04f64",
       "version_major": 2,
       "version_minor": 0
      },
      "text/plain": [
       "Canvas(toolbar=Toolbar(toolitems=[('Home', 'Reset original view', 'home', 'home'), ('Back', 'Back to previous …"
      ]
     },
     "metadata": {},
     "output_type": "display_data"
    },
    {
     "data": {
      "application/vnd.jupyter.widget-view+json": {
       "model_id": "6d1ff5d356d345e0b15d0726219ab9b7",
       "version_major": 2,
       "version_minor": 0
      },
      "text/plain": [
       "Canvas(toolbar=Toolbar(toolitems=[('Home', 'Reset original view', 'home', 'home'), ('Back', 'Back to previous …"
      ]
     },
     "metadata": {},
     "output_type": "display_data"
    }
   ],
   "source": [
    "plot_SIM1D_PM(ds04, varn)"
   ]
  },
  {
   "cell_type": "markdown",
   "id": "rural-consciousness",
   "metadata": {},
   "source": [
    "## With linearly increasing wind - kt=-0.1"
   ]
  },
  {
   "cell_type": "code",
   "execution_count": 15,
   "id": "enabling-camping",
   "metadata": {},
   "outputs": [
    {
     "name": "stdout",
     "output_type": "stream",
     "text": [
      "A\n",
      "h\n",
      "div\n",
      "Er\n",
      "u\n",
      "<xarray.Dataset>\n",
      "Dimensions:    (time: 179, timestep: 179, xc: 262, xg: 261)\n",
      "Coordinates:\n",
      "    timesteps  (timestep) int64 10 20 30 40 50 60 ... 1750 1760 1770 1780 1790\n",
      "  * time       (time) int64 100 200 300 400 500 ... 17600 17700 17800 17900\n",
      "  * xc         (xc) float64 0.0 0.9962 1.992 2.989 ... 257.0 258.0 259.0 260.0\n",
      "  * xg         (xg) float64 0.4981 1.494 2.49 3.487 ... 256.5 257.5 258.5 259.5\n",
      "Dimensions without coordinates: timestep\n",
      "Data variables:\n",
      "    A          (time, xc) float64 0.0 0.01437 0.9861 0.9997 ... 0.0 0.0 0.0 0.0\n",
      "    h          (time, xc) float64 0.0 0.01437 0.9861 0.9997 ... 0.0 0.0 0.0 0.0\n",
      "    div        (time, xc) float64 0.0 -0.0002458 0.0002332 ... -7.204e-06 0.0\n",
      "    Er         (time, xg) float64 0.0 0.2482 0.003453 -5.365e-07 ... 0.0 0.0 0.0\n",
      "    u          (time, xg) float64 0.0 -0.2458 -0.0126 ... 0.0072 0.007204 0.0\n",
      "Attributes:\n",
      "    entry:    {'fdr': './output.06/', 'vrs': ['A', 'h', 'div', 'Er', 'u'], 'v...\n"
     ]
    }
   ],
   "source": [
    "tps06 = timesteps(10, 1800, 10)\n",
    "\n",
    "#data to load in an xarray\n",
    "datas06 = {\n",
    "    'fdr': './output.06/',\n",
    "    'vrs': ['A', 'h', 'div', 'Er', 'u'],\n",
    "    'vx': {'A': 'xc', 'h': 'xc', 'div': 'xc', 'Er': 'xg', 'u': 'xg','sigma':'xc','sig_norm':'xc'},\n",
    "    'ri': '00010s_001km_solv1_IMEX0_adv3_BDF20',\n",
    "    'tps': tps06,\n",
    "    'exp': '.06',\n",
    "    'dt': 10\n",
    "}\n",
    "\n",
    "ds06 = loadxr_SIM1D(datas06, save=True)\n",
    "\n",
    "ds06=ds06.fillna(0)\n",
    "\n",
    "print(ds06)"
   ]
  },
  {
   "cell_type": "code",
   "execution_count": 16,
   "id": "lyric-authority",
   "metadata": {},
   "outputs": [],
   "source": [
    "# variables for plot\n",
    "varn = [\"u\", \"h\", \"A\", \"div\", \"Er\"]"
   ]
  },
  {
   "cell_type": "code",
   "execution_count": 17,
   "id": "optimum-union",
   "metadata": {},
   "outputs": [
    {
     "data": {
      "application/vnd.jupyter.widget-view+json": {
       "model_id": "fd49dc15166c4338a4afcab49bb8e52e",
       "version_major": 2,
       "version_minor": 0
      },
      "text/plain": [
       "Canvas(toolbar=Toolbar(toolitems=[('Home', 'Reset original view', 'home', 'home'), ('Back', 'Back to previous …"
      ]
     },
     "metadata": {},
     "output_type": "display_data"
    },
    {
     "data": {
      "application/vnd.jupyter.widget-view+json": {
       "model_id": "5c34ccc828e54acdb7c4e98a2e9662c9",
       "version_major": 2,
       "version_minor": 0
      },
      "text/plain": [
       "Canvas(toolbar=Toolbar(toolitems=[('Home', 'Reset original view', 'home', 'home'), ('Back', 'Back to previous …"
      ]
     },
     "metadata": {},
     "output_type": "display_data"
    },
    {
     "data": {
      "application/vnd.jupyter.widget-view+json": {
       "model_id": "951621955cf44ff78d4d160a3c582f69",
       "version_major": 2,
       "version_minor": 0
      },
      "text/plain": [
       "Canvas(toolbar=Toolbar(toolitems=[('Home', 'Reset original view', 'home', 'home'), ('Back', 'Back to previous …"
      ]
     },
     "metadata": {},
     "output_type": "display_data"
    },
    {
     "data": {
      "application/vnd.jupyter.widget-view+json": {
       "model_id": "f03c1f2696254121923ece5344ce61f5",
       "version_major": 2,
       "version_minor": 0
      },
      "text/plain": [
       "Canvas(toolbar=Toolbar(toolitems=[('Home', 'Reset original view', 'home', 'home'), ('Back', 'Back to previous …"
      ]
     },
     "metadata": {},
     "output_type": "display_data"
    },
    {
     "data": {
      "application/vnd.jupyter.widget-view+json": {
       "model_id": "35e044377cf74776abff44dc24956153",
       "version_major": 2,
       "version_minor": 0
      },
      "text/plain": [
       "Canvas(toolbar=Toolbar(toolitems=[('Home', 'Reset original view', 'home', 'home'), ('Back', 'Back to previous …"
      ]
     },
     "metadata": {},
     "output_type": "display_data"
    }
   ],
   "source": [
    "plot_SIM1D_PM(ds06, varn)"
   ]
  },
  {
   "cell_type": "code",
   "execution_count": 18,
   "id": "accompanied-virtue",
   "metadata": {},
   "outputs": [
    {
     "data": {
      "application/vnd.jupyter.widget-view+json": {
       "model_id": "7326cbb896af4a7fae2659b7c1dd780b",
       "version_major": 2,
       "version_minor": 0
      },
      "text/plain": [
       "Canvas(toolbar=Toolbar(toolitems=[('Home', 'Reset original view', 'home', 'home'), ('Back', 'Back to previous …"
      ]
     },
     "metadata": {},
     "output_type": "display_data"
    },
    {
     "data": {
      "application/vnd.jupyter.widget-view+json": {
       "model_id": "edbeef426a0b49de840a3860e054791e",
       "version_major": 2,
       "version_minor": 0
      },
      "text/plain": [
       "Canvas(toolbar=Toolbar(toolitems=[('Home', 'Reset original view', 'home', 'home'), ('Back', 'Back to previous …"
      ]
     },
     "metadata": {},
     "output_type": "display_data"
    },
    {
     "data": {
      "application/vnd.jupyter.widget-view+json": {
       "model_id": "7f6eea1558aa4b71bfd0bf28d9045fb0",
       "version_major": 2,
       "version_minor": 0
      },
      "text/plain": [
       "Canvas(toolbar=Toolbar(toolitems=[('Home', 'Reset original view', 'home', 'home'), ('Back', 'Back to previous …"
      ]
     },
     "metadata": {},
     "output_type": "display_data"
    },
    {
     "data": {
      "application/vnd.jupyter.widget-view+json": {
       "model_id": "7c60eea5b4264053a05495a11b995390",
       "version_major": 2,
       "version_minor": 0
      },
      "text/plain": [
       "Canvas(toolbar=Toolbar(toolitems=[('Home', 'Reset original view', 'home', 'home'), ('Back', 'Back to previous …"
      ]
     },
     "metadata": {},
     "output_type": "display_data"
    },
    {
     "data": {
      "application/vnd.jupyter.widget-view+json": {
       "model_id": "62f1dc3841754302bc16b5bbd0a67296",
       "version_major": 2,
       "version_minor": 0
      },
      "text/plain": [
       "Canvas(toolbar=Toolbar(toolitems=[('Home', 'Reset original view', 'home', 'home'), ('Back', 'Back to previous …"
      ]
     },
     "metadata": {},
     "output_type": "display_data"
    }
   ],
   "source": [
    "plot_SIM1D(ds06, varn, step=10)"
   ]
  },
  {
   "cell_type": "code",
   "execution_count": null,
   "id": "senior-feeding",
   "metadata": {},
   "outputs": [],
   "source": []
  }
 ],
 "metadata": {
  "kernelspec": {
   "display_name": "Python 3",
   "language": "python",
   "name": "python3"
  },
  "language_info": {
   "codemirror_mode": {
    "name": "ipython",
    "version": 3
   },
   "file_extension": ".py",
   "mimetype": "text/x-python",
   "name": "python",
   "nbconvert_exporter": "python",
   "pygments_lexer": "ipython3",
   "version": "3.8.6"
  }
 },
 "nbformat": 4,
 "nbformat_minor": 5
}
